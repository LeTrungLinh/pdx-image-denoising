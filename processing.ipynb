{
 "cells": [
  {
   "cell_type": "code",
   "execution_count": 1,
   "metadata": {},
   "outputs": [],
   "source": [
    "import os \n",
    "\n",
    "# Set the directory you are working in.\n",
    "target_dir = 'data/0'\n",
    "\n",
    "# Get a list of all the images in this directory.\n",
    "image_files_list = os.listdir(target_dir)\n",
    "\n",
    "# Create a new file for each image.\n",
    "half_length = len(image_files_list) // 10\n",
    "\n",
    "# Open the first file for writing the 8:2 ratio filenames.\n",
    "file1 = open('train_files.txt', 'w') \n",
    "\n",
    "# Write filenames from first half of list into this file.\n",
    "for fname in image_files_list[:half_length*8]: \n",
    "    file1.write(fname+\"\\n\") \n",
    "    \n",
    "# Close the file after writing is done.\n",
    "file1.close()\n",
    "\n",
    "# Open the second file for writing the 8:2 ratio filenames.\n",
    "file2 = open('val_files.txt','w') \n",
    "\n",
    "# Write filenames from second half of list into this file.\n",
    "for fname in image_files_list[half_length*8:]: \n",
    "    file2.write(fname + \"\\n\") \n",
    "    \n",
    "# Close the file after writing is done.\n",
    "file2.close()\n"
   ]
  },
  {
   "cell_type": "code",
   "execution_count": null,
   "metadata": {},
   "outputs": [],
   "source": []
  }
 ],
 "metadata": {
  "kernelspec": {
   "display_name": "ocr_env",
   "language": "python",
   "name": "ocr_env"
  },
  "language_info": {
   "codemirror_mode": {
    "name": "ipython",
    "version": 3
   },
   "file_extension": ".py",
   "mimetype": "text/x-python",
   "name": "python",
   "nbconvert_exporter": "python",
   "pygments_lexer": "ipython3",
   "version": "3.10.6"
  },
  "orig_nbformat": 4,
  "vscode": {
   "interpreter": {
    "hash": "916dbcbb3f70747c44a77c7bcd40155683ae19c65e1c03b4aa3499c5328201f1"
   }
  }
 },
 "nbformat": 4,
 "nbformat_minor": 2
}
